{
 "cells": [
  {
   "cell_type": "markdown",
   "metadata": {
    "deletable": true,
    "editable": true
   },
   "source": [
    "# Intro to csv, numpy, pandas, and matplotlib"
   ]
  },
  {
   "cell_type": "code",
   "execution_count": 1,
   "metadata": {
    "collapsed": true,
    "deletable": true,
    "editable": true
   },
   "outputs": [],
   "source": [
    "from __future__ import print_function\n",
    "\n",
    "import numpy as np\n",
    "import csv\n",
    "import pandas as pd\n",
    "import matplotlib.pyplot as plt"
   ]
  },
  {
   "cell_type": "markdown",
   "metadata": {
    "deletable": true,
    "editable": true
   },
   "source": [
    "## csv"
   ]
  },
  {
   "cell_type": "code",
   "execution_count": 2,
   "metadata": {
    "collapsed": false,
    "deletable": true,
    "editable": true
   },
   "outputs": [
    {
     "name": "stdout",
     "output_type": "stream",
     "text": [
      "150\n",
      "['5.1', '3.5', 'Iris-setosa']\n"
     ]
    }
   ],
   "source": [
    "file = open('iris.csv', 'r') # load data into file\n",
    "reader = csv.reader(file)  # reader generates a list of lists\n",
    "lines = list(reader)  # turn generator into list of lists\n",
    "print(len(lines))\n",
    "print(lines[0])"
   ]
  },
  {
   "cell_type": "markdown",
   "metadata": {
    "deletable": true,
    "editable": true
   },
   "source": [
    "## numpy"
   ]
  },
  {
   "cell_type": "code",
   "execution_count": 3,
   "metadata": {
    "collapsed": false,
    "deletable": true,
    "editable": true
   },
   "outputs": [
    {
     "name": "stdout",
     "output_type": "stream",
     "text": [
      "(150, 3) <type 'numpy.ndarray'>\n"
     ]
    }
   ],
   "source": [
    "lines_matrix = np.asarray(lines)  # convert list of lists into character matrix\n",
    "print(lines_matrix.shape, type(lines_matrix))"
   ]
  },
  {
   "cell_type": "code",
   "execution_count": 4,
   "metadata": {
    "collapsed": false,
    "deletable": true,
    "editable": true
   },
   "outputs": [
    {
     "name": "stdout",
     "output_type": "stream",
     "text": [
      "(150, 2) 150\n",
      "4.44866666667 1.54241095547\n",
      "set(['Iris-virginica', 'Iris-setosa', 'Iris-versicolor'])\n"
     ]
    }
   ],
   "source": [
    "features = lines_matrix[:, 0:2].astype(np.float)  # retrieve only feature cols, convert to float\n",
    "labels = list(lines_matrix[:, 2])\n",
    "print(features.shape, len(labels))\n",
    "mean, std = np.mean(features), np.std(features) # get mean, and std\n",
    "print(mean, std)\n",
    "labels_set = set(labels) # get unique labels\n",
    "print(labels_set)"
   ]
  },
  {
   "cell_type": "markdown",
   "metadata": {
    "deletable": true,
    "editable": true
   },
   "source": [
    "## pandas"
   ]
  },
  {
   "cell_type": "code",
   "execution_count": 5,
   "metadata": {
    "collapsed": false,
    "deletable": true,
    "editable": true
   },
   "outputs": [
    {
     "name": "stdout",
     "output_type": "stream",
     "text": [
      "(150, 3) <class 'pandas.core.frame.DataFrame'>\n",
      "       sepal_length  sepal_width\n",
      "count    150.000000   150.000000\n",
      "mean       5.843333     3.054000\n",
      "std        0.828066     0.433594\n",
      "min        4.300000     2.000000\n",
      "25%        5.100000     2.800000\n",
      "50%        5.800000     3.000000\n",
      "75%        6.400000     3.300000\n",
      "max        7.900000     4.400000\n",
      "['Iris-setosa' 'Iris-versicolor' 'Iris-virginica']\n"
     ]
    }
   ],
   "source": [
    "df_iris = pd.read_csv('iris.csv', header=None,\n",
    "                      names=['sepal_length', 'sepal_width', 'label'])  # load data into pandas\n",
    "print(df_iris.shape, type(df_iris))\n",
    "print(df_iris.describe())  # get mean, std, etc.\n",
    "print(df_iris['label'].unique())"
   ]
  },
  {
   "cell_type": "markdown",
   "metadata": {
    "deletable": true,
    "editable": true
   },
   "source": [
    "## matplotlib"
   ]
  },
  {
   "cell_type": "code",
   "execution_count": 6,
   "metadata": {
    "collapsed": false,
    "deletable": true,
    "editable": true
   },
   "outputs": [
    {
     "data": {
      "image/png": "[encoded data removed]",
      "text/plain": [
       "<matplotlib.figure.Figure at 0x7fa9cb440b50>"
      ]
     },
     "metadata": {},
     "output_type": "display_data"
    }
   ],
   "source": [
    "fig, ax = plt.subplots()\n",
    "plt.title('Features Scatterplot (matplotlib interface)')\n",
    "ax.scatter(x='sepal_length', y='sepal_width', c='red', data=df_iris.where(df_iris['label'] == 'Iris-setosa'))\n",
    "ax.scatter(x='sepal_length', y='sepal_width', c='green', data=df_iris.where(df_iris['label'] == 'Iris-versicolor'))\n",
    "ax.scatter(x='sepal_length', y='sepal_width', c='blue', data=df_iris.where(df_iris['label'] == 'Iris-virginica'))\n",
    "ax.set_xlabel('sepal_length')\n",
    "ax.set_ylabel('sepal_width')\n",
    "plt.show()"
   ]
  },
  {
   "cell_type": "markdown",
   "metadata": {
    "deletable": true,
    "editable": true
   },
   "source": [
    "## using both pandas and matplotlib"
   ]
  },
  {
   "cell_type": "code",
   "execution_count": 9,
   "metadata": {
    "collapsed": false,
    "deletable": true,
    "editable": true
   },
   "outputs": [
    {
     "data": {
      "image/png": "[encoded data removed]",
      "text/plain": [
       "<matplotlib.figure.Figure at 0x7fa9c576dc50>"
      ]
     },
     "metadata": {},
     "output_type": "display_data"
    }
   ],
   "source": [
    "df_iris.plot.scatter(x='sepal_length', y='sepal_width', title='Features Scatterplot (pandas interface)')\n",
    "plt.show()"
   ]
  },
  {
   "cell_type": "code",
   "execution_count": 12,
   "metadata": {
    "collapsed": false,
    "deletable": true,
    "editable": true
   },
   "outputs": [
    {
     "name": "stdout",
     "output_type": "stream",
     "text": [
      "Iris-virginica std:\n",
      "sepal_length    0.635880\n",
      "sepal_width     0.322497\n",
      "dtype: float64\n",
      "\n",
      "Iris-setosa std:\n",
      "sepal_length    0.352490\n",
      "sepal_width     0.381024\n",
      "dtype: float64\n",
      "\n",
      "Iris-versicolor std:\n",
      "sepal_length    0.516171\n",
      "sepal_width     0.313798\n",
      "dtype: float64\n",
      "\n"
     ]
    },
    {
     "data": {
      "image/png": "[encoded data removed]",
      "text/plain": [
       "<matplotlib.figure.Figure at 0x7fa9c54019d0>"
      ]
     },
     "metadata": {},
     "output_type": "display_data"
    }
   ],
   "source": [
    "yerr_mat = np.zeros((2,3))\n",
    "for i, label in enumerate(labels_set):\n",
    "    print(label, 'std:')\n",
    "    print(df_iris.where(df_iris['label'] == label).std())\n",
    "    print()\n",
    "    yerr_mat[:, i] = df_iris.where(df_iris['label'] == label).std()\n",
    "df_iris.groupby('label').mean().plot.bar(title='Barplot', yerr=yerr_mat)\n",
    "plt.show()"
   ]
  },
  {
   "cell_type": "code",
   "execution_count": 13,
   "metadata": {
    "collapsed": false,
    "deletable": true,
    "editable": true
   },
   "outputs": [
    {
     "data": {
      "image/png": "[encoded data removed]",
      "text/plain": [
       "<matplotlib.figure.Figure at 0x7fa9c561bcd0>"
      ]
     },
     "metadata": {},
     "output_type": "display_data"
    }
   ],
   "source": [
    "df_iris.boxplot(by='label')\n",
    "plt.show()"
   ]
  },
  {
   "cell_type": "code",
   "execution_count": 14,
   "metadata": {
    "collapsed": false,
    "deletable": true,
    "editable": true
   },
   "outputs": [
    {
     "data": {
      "image/png": "[encoded data removed]",
      "text/plain": [
       "<matplotlib.figure.Figure at 0x7fa9c5638b10>"
      ]
     },
     "metadata": {},
     "output_type": "display_data"
    }
   ],
   "source": [
    "df_iris.hist()\n",
    "plt.show()"
   ]
  }
 ],
 "metadata": {
  "kernelspec": {
   "display_name": "Python 2",
   "language": "python",
   "name": "python2"
  },
  "language_info": {
   "codemirror_mode": {
    "name": "ipython",
    "version": 2
   },
   "file_extension": ".py",
   "mimetype": "text/x-python",
   "name": "python",
   "nbconvert_exporter": "python",
   "pygments_lexer": "ipython2",
   "version": "2.7.6"
  }
 },
 "nbformat": 4,
 "nbformat_minor": 2
}
